{
 "cells": [
  {
   "cell_type": "code",
   "execution_count": null,
   "id": "8c333d4d",
   "metadata": {},
   "outputs": [],
   "source": [
    "import matplotlib.pyplot as plt\n",
    "\n",
    "# Dados de exemplo\n",
    "categorias = [\"Maçã\", \"Banana\", \"Laranja\", \"Uva\", \"Melão\"]\n",
    "valores = [25, 25, 20, 10, 10]\n",
    "\n",
    "# Cores Opicionais"
   ]
  }
 ],
 "metadata": {
  "kernelspec": {
   "display_name": "Python 3",
   "language": "python",
   "name": "python3"
  },
  "language_info": {
   "codemirror_mode": {
    "name": "ipython",
    "version": 3
   },
   "file_extension": ".py",
   "mimetype": "text/x-python",
   "name": "python",
   "nbconvert_exporter": "python",
   "pygments_lexer": "ipython3",
   "version": "3.12.1"
  }
 },
 "nbformat": 4,
 "nbformat_minor": 5
}
